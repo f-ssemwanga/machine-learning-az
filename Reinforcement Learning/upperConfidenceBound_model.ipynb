{
 "cells": [
  {
   "cell_type": "markdown",
   "metadata": {},
   "source": []
  },
  {
   "cell_type": "markdown",
   "metadata": {},
   "source": [
    "#### UCB Algorithm\n",
    "\n",
    "![UCB Algorithm](../dataFiles/UCB_Algorithm.png)\n",
    "\n",
    "- Objective is to optimise the 10 different Ads designs and decide which AD will convert the most\n",
    "- Show ads to different online users, show the add and record whether the user clicked or did not click - 1 = clicked, 0 = not\n",
    "- The dataset ensures that this is iterated for 10 uses\n",
    "\n",
    "***Note***\n",
    "- In reality the only way to simulate is to present the ads in real time however we have to make a simulation, the dataset is a simulation of which ad the user clicked on.\n",
    "- For example user 1 would click on ad1, ad5, ad6.\n",
    "- In reality we would have no prior knowledge of the user's options / choice of ads but the simulation allows for this.\n",
    "##### Objective\n",
    "- Each add has a click through rate and the goal is to figure out which ad is most frequently clicked on ad (converts the most) in the minimum possible rounds"
   ]
  },
  {
   "cell_type": "markdown",
   "metadata": {},
   "source": [
    "#### importing the libraries"
   ]
  },
  {
   "cell_type": "code",
   "execution_count": 30,
   "metadata": {},
   "outputs": [],
   "source": [
    "import pandas as pd\n",
    "import numpy as np\n",
    "import matplotlib.pyplot as plt"
   ]
  },
  {
   "cell_type": "markdown",
   "metadata": {},
   "source": [
    "#### importing the dataset"
   ]
  },
  {
   "cell_type": "code",
   "execution_count": 31,
   "metadata": {},
   "outputs": [],
   "source": [
    "dataset = pd.read_csv('../dataFiles/Ads_CTR_Optimisation.csv')"
   ]
  },
  {
   "cell_type": "markdown",
   "metadata": {},
   "source": [
    "##### Implementing UCB Algorithm"
   ]
  },
  {
   "cell_type": "code",
   "execution_count": 32,
   "metadata": {},
   "outputs": [],
   "source": [
    "from math import sqrt, log\n",
    "#requied variables\n",
    "N = 600 # total no of users / rounds\n",
    "d = 10 # no of adds\n",
    "ads_selected = [] #full list of ads selected at each round\n",
    "numbers_of_selections = [0]*d #no of times the ad i was selected up to round n - currently initialised to 10 zeros\n",
    "sums_of_rewards = [0] * d #sum of rewards for the ad i up to round n\n",
    "total_reward = 0 # total reward accumulated over the rounds\n",
    "\n",
    "#Iterating through all the rounds\n",
    "for n in range(0, N):\n",
    "  #select an add with max UCB starting with ad 0\n",
    "  ad = 0\n",
    "  #max upper confidence bound to which all the others will be compared\n",
    "  max_upper_bound = 0\n",
    "  for i in range(0,d):\n",
    "    #check if the current add has already been selected\n",
    "    if (numbers_of_selections[i] >0):\n",
    "      average_reward = sums_of_rewards[i]/numbers_of_selections[i] \n",
    "      #compute the confidence interval\n",
    "      delta_i = sqrt(3/2*log(n+1)/numbers_of_selections[i] )\n",
    "      \n",
    "      #compute the UCB\n",
    "      upper_bound = average_reward + delta_i \n",
    "    \n",
    "    else:\n",
    "      # Compute the max of the upper confidence bound\n",
    "      #select adds that have not been selected yet -this is necessary to ensure that Ni(n) in step 2 is not 0\n",
    "      upper_bound = 1e400 # this is 1 x 10 to the power of 400 - ensures that the add is selected\n",
    "      \n",
    "    if (upper_bound) > max_upper_bound:\n",
    "      #update max_upper_bound\n",
    "      max_upper_bound = upper_bound\n",
    "      #select the add\n",
    "      ad = i\n",
    "  #updating the initial variables\n",
    "  ads_selected.append(ad)\n",
    "  numbers_of_selections[ad] +=1\n",
    "  reward = dataset.values[n,ad]\n",
    "  sums_of_rewards[ad] = sums_of_rewards[ad] + reward #gets values from the dataset\n",
    "  total_reward = total_reward+ reward"
   ]
  },
  {
   "cell_type": "markdown",
   "metadata": {},
   "source": [
    "##### Visualising the results\n",
    "\n",
    "- plots number of times the ad was selected\n",
    "- x axis has the different adds\n",
    "- y axis has the number of times each add was selected"
   ]
  },
  {
   "cell_type": "code",
   "execution_count": 33,
   "metadata": {},
   "outputs": [
    {
     "data": {
      "image/png": "[encoded data removed]",
      "text/plain": [
       "<Figure size 640x480 with 1 Axes>"
      ]
     },
     "metadata": {},
     "output_type": "display_data"
    }
   ],
   "source": [
    "plt.hist(ads_selected)\n",
    "plt.title('Histogram of Ads selection')\n",
    "plt.xlabel('Ads')\n",
    "plt.ylabel('Number of times each ad was selected')\n",
    "plt.show()"
   ]
  },
  {
   "cell_type": "markdown",
   "metadata": {},
   "source": [
    "#### Analysis\n",
    "- It is clear that Ad 5 was the most attractive\n",
    "- The goal is to identify the add with as few round as possible\n",
    "\n",
    "- experiment with lower values of N to see if the result still holds"
   ]
  }
 ],
 "metadata": {
  "kernelspec": {
   "display_name": "Python 3",
   "language": "python",
   "name": "python3"
  },
  "language_info": {
   "codemirror_mode": {
    "name": "ipython",
    "version": 3
   },
   "file_extension": ".py",
   "mimetype": "text/x-python",
   "name": "python",
   "nbconvert_exporter": "python",
   "pygments_lexer": "ipython3",
   "version": "3.11.4"
  },
  "orig_nbformat": 4
 },
 "nbformat": 4,
 "nbformat_minor": 2
}
