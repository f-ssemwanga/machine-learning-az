{
 "cells": [
  {
   "cell_type": "markdown",
   "metadata": {},
   "source": [
    "#### Thompson Sampling Reinforcement Learning Algorithm\n",
    "\n",
    "![Thompson Sampling algorithm](../dataFiles/thompsonSamplingAlgorithm.png)\n",
    "##### Objective\n",
    "- Each add has a click through rate and the goal is to figure out which ad is most frequently clicked on ad (converts the most) in the minimum possible rounds\n"
   ]
  },
  {
   "cell_type": "markdown",
   "metadata": {},
   "source": [
    "#### Importing Modules"
   ]
  },
  {
   "cell_type": "code",
   "execution_count": 1,
   "metadata": {},
   "outputs": [],
   "source": [
    "import pandas as pd\n",
    "import numpy as np\n",
    "import matplotlib.pyplot as plt"
   ]
  },
  {
   "cell_type": "markdown",
   "metadata": {},
   "source": [
    "#### Importing the dataset"
   ]
  },
  {
   "cell_type": "code",
   "execution_count": 2,
   "metadata": {},
   "outputs": [],
   "source": [
    "dataset = pd.read_csv('../dataFiles/Ads_CTR_Optimisation.csv')"
   ]
  },
  {
   "cell_type": "markdown",
   "metadata": {},
   "source": [
    "#### Implementing Thompson Sampling"
   ]
  },
  {
   "cell_type": "code",
   "execution_count": null,
   "metadata": {},
   "outputs": [],
   "source": [
    "import random\n",
    "#requied variables\n",
    "N = 10000 # total no of users / rounds to who we show the add\n",
    "d = 10 # no of adds\n",
    "ads_selected = [] #full list of ads selected at each round\n",
    "\n",
    "#Step 1 - create the variables for lists of rewards\n",
    "numbers_of_reward_1 = [0] * d\n",
    "numbers_of_reward_0 = [0] * d\n",
    "total_reward =0 # accumulated reward\n",
    "\n",
    "# iterate over the N rounds and show the adds\n",
    "for n in range(0,N):\n",
    "  ad = 0 # index of round selected at each round\n",
    "  max_random= 0 # maximum of the draws\n",
    "  for i in range(0,d):\n",
    "    #thomson sampling step 2\n",
    "    random_beta = random.betavariate[numbers_of_reward_1[i]+1, numbers_of_reward_0[i]+1]\n",
    "    #thompson sampling step 3\n",
    "    # compare random better to max_random\n",
    "    if (random_beta >max_random):\n",
    "      max_random = random_beta\n",
    "      ad = i\n",
    "  #update the variables\n",
    "  ads_selected.append(ad) # append to the full list of adds selected\n",
    "  reward = dataset.values[n,ad]\n",
    "  if reward == 1:\n",
    "    numbers_of_reward_1[ad] += 1\n",
    "  else:\n",
    "    numbers_of_reward_0[ad] += 1\n",
    "\n"
   ]
  },
  {
   "cell_type": "markdown",
   "metadata": {},
   "source": [
    "##### Visualising the results\n",
    "\n",
    "- plots number of times the ad was selected\n",
    "- x axis has the different adds\n",
    "- y axis has the number of times each add was selected"
   ]
  },
  {
   "cell_type": "code",
   "execution_count": null,
   "metadata": {},
   "outputs": [],
   "source": [
    "plt.hist(ads_selected)\n",
    "plt.title('Histogram of Ads selection')\n",
    "plt.xlabel('Ads')\n",
    "plt.ylabel('Number of times each ad was selected')\n",
    "plt.show()"
   ]
  }
 ],
 "metadata": {
  "kernelspec": {
   "display_name": "Python 3",
   "language": "python",
   "name": "python3"
  },
  "language_info": {
   "codemirror_mode": {
    "name": "ipython",
    "version": 3
   },
   "file_extension": ".py",
   "mimetype": "text/x-python",
   "name": "python",
   "nbconvert_exporter": "python",
   "pygments_lexer": "ipython3",
   "version": "3.11.4"
  },
  "orig_nbformat": 4
 },
 "nbformat": 4,
 "nbformat_minor": 2
}
