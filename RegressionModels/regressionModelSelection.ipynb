{
 "cells": [
  {
   "cell_type": "markdown",
   "metadata": {},
   "source": [
    "Consider the following [Energy Dataset](../dataFiles/combinedCyclePowerPlant.csv) in which there are four independent variables:\n",
    "- AT - Ambient Temperature\n",
    "- V - Exhaust Vaccumn\n",
    "- AP - Ambient Pressure\n",
    "- RH - Relative Humidity\n",
    "\n",
    "and one dependent variable to be predicted PE - Energy Output\n",
    "\n",
    "***Note that the last column has the dependent variable and the features are in the first columns***"
   ]
  },
  {
   "cell_type": "code",
   "execution_count": null,
   "metadata": {},
   "outputs": [],
   "source": []
  }
 ],
 "metadata": {
  "language_info": {
   "name": "python"
  },
  "orig_nbformat": 4
 },
 "nbformat": 4,
 "nbformat_minor": 2
}
