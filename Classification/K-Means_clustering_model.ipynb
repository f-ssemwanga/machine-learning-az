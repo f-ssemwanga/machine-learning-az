{
 "cells": [
  {
   "cell_type": "markdown",
   "metadata": {},
   "source": [
    "#### Mall Customers Clustering\n",
    "\n",
    "- Spending score is a metric by the mall to decide how much each customer spends over a period of time, the higher the score the higher the spending for that customer\n",
    "- The team wants to understand its customers and identify some patterns within the customers of the mall\n",
    "***How to understand the patterns ***\n",
    "- We will create a dependent variable that will have a finite number of values e.g.4 or 5 and each being a class of the dependent variable\n",
    "\n",
    "***Data***\n",
    "[Mall Customers](../dataFiles/Mall_Customers.csv)"
   ]
  },
  {
   "cell_type": "markdown",
   "metadata": {},
   "source": [
    "#### Importing the libraries"
   ]
  },
  {
   "cell_type": "markdown",
   "metadata": {},
   "source": [
    "#### Importing the dataset"
   ]
  },
  {
   "cell_type": "markdown",
   "metadata": {},
   "source": [
    "#### Using the elbow method to find the optimal number of clusters"
   ]
  },
  {
   "cell_type": "markdown",
   "metadata": {},
   "source": [
    "#### Training the K-Means model on the dataset"
   ]
  },
  {
   "cell_type": "markdown",
   "metadata": {},
   "source": [
    "#### Visualising clusters"
   ]
  },
  {
   "cell_type": "code",
   "execution_count": null,
   "metadata": {},
   "outputs": [],
   "source": []
  }
 ],
 "metadata": {
  "language_info": {
   "name": "python"
  },
  "orig_nbformat": 4
 },
 "nbformat": 4,
 "nbformat_minor": 2
}
