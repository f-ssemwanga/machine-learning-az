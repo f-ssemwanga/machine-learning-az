{
 "cells": [
  {
   "cell_type": "markdown",
   "metadata": {},
   "source": [
    "\n",
    "### Artifical Neural Networks - Churn Modelling\n",
    "\n",
    "- Fully Connected Neural Network: Layers are fully connected layers\n",
    "- An input vector containing  different features and predict an outcome which is a binary variable i.e. for ***classification***\n",
    "\n",
    "##### Understanding the [Dataset](../dataFiles/Churn_Modelling.csv)\n",
    "\n",
    "- Dataset of a bank with information about customers\n",
    "- Last column i.e. Exited is the dependent variable tells yes/no - the customer stayed or exited the bank\n",
    "- Bank observed customers for a period of time and gathered outcomes in the dependent variable to get the correlation between the independent features and the dependent variable\n",
    "- They intent to deploy the model on new  customers to encourage customers to stay with  the bank\n",
    "- The given dataset will be used to train the model and then use the model on future customers as well as predicting the probability that a given customer leaves the bank."
   ]
  },
  {
   "cell_type": "code",
   "execution_count": 87,
   "metadata": {},
   "outputs": [
    {
     "name": "stdout",
     "output_type": "stream",
     "text": [
      "Defaulting to user installation because normal site-packages is not writeable\n",
      "Requirement already satisfied: tensorflow in c:\\users\\fssemwanga\\appdata\\roaming\\python\\python311\\site-packages (2.13.0)\n",
      "Requirement already satisfied: tensorflow-intel==2.13.0 in c:\\users\\fssemwanga\\appdata\\roaming\\python\\python311\\site-packages (from tensorflow) (2.13.0)\n",
      "Requirement already satisfied: absl-py>=1.0.0 in c:\\users\\fssemwanga\\appdata\\roaming\\python\\python311\\site-packages (from tensorflow-intel==2.13.0->tensorflow) (1.4.0)\n",
      "Requirement already satisfied: astunparse>=1.6.0 in c:\\users\\fssemwanga\\appdata\\roaming\\python\\python311\\site-packages (from tensorflow-intel==2.13.0->tensorflow) (1.6.3)\n",
      "Requirement already satisfied: flatbuffers>=23.1.21 in c:\\users\\fssemwanga\\appdata\\roaming\\python\\python311\\site-packages (from tensorflow-intel==2.13.0->tensorflow) (23.5.26)\n",
      "Requirement already satisfied: gast<=0.4.0,>=0.2.1 in c:\\users\\fssemwanga\\appdata\\roaming\\python\\python311\\site-packages (from tensorflow-intel==2.13.0->tensorflow) (0.4.0)\n",
      "Requirement already satisfied: google-pasta>=0.1.1 in c:\\users\\fssemwanga\\appdata\\roaming\\python\\python311\\site-packages (from tensorflow-intel==2.13.0->tensorflow) (0.2.0)\n",
      "Requirement already satisfied: h5py>=2.9.0 in c:\\programdata\\anaconda3\\lib\\site-packages (from tensorflow-intel==2.13.0->tensorflow) (3.7.0)\n",
      "Requirement already satisfied: libclang>=13.0.0 in c:\\users\\fssemwanga\\appdata\\roaming\\python\\python311\\site-packages (from tensorflow-intel==2.13.0->tensorflow) (16.0.6)\n",
      "Requirement already satisfied: numpy<=1.24.3,>=1.22 in c:\\programdata\\anaconda3\\lib\\site-packages (from tensorflow-intel==2.13.0->tensorflow) (1.24.3)\n",
      "Requirement already satisfied: opt-einsum>=2.3.2 in c:\\users\\fssemwanga\\appdata\\roaming\\python\\python311\\site-packages (from tensorflow-intel==2.13.0->tensorflow) (3.3.0)\n",
      "Requirement already satisfied: packaging in c:\\programdata\\anaconda3\\lib\\site-packages (from tensorflow-intel==2.13.0->tensorflow) (23.0)\n",
      "Requirement already satisfied: protobuf!=4.21.0,!=4.21.1,!=4.21.2,!=4.21.3,!=4.21.4,!=4.21.5,<5.0.0dev,>=3.20.3 in c:\\users\\fssemwanga\\appdata\\roaming\\python\\python311\\site-packages (from tensorflow-intel==2.13.0->tensorflow) (4.24.0)\n",
      "Requirement already satisfied: setuptools in c:\\programdata\\anaconda3\\lib\\site-packages (from tensorflow-intel==2.13.0->tensorflow) (68.0.0)\n",
      "Requirement already satisfied: six>=1.12.0 in c:\\programdata\\anaconda3\\lib\\site-packages (from tensorflow-intel==2.13.0->tensorflow) (1.16.0)\n",
      "Requirement already satisfied: termcolor>=1.1.0 in c:\\users\\fssemwanga\\appdata\\roaming\\python\\python311\\site-packages (from tensorflow-intel==2.13.0->tensorflow) (2.3.0)\n",
      "Requirement already satisfied: typing-extensions<4.6.0,>=3.6.6 in c:\\users\\fssemwanga\\appdata\\roaming\\python\\python311\\site-packages (from tensorflow-intel==2.13.0->tensorflow) (4.5.0)\n",
      "Requirement already satisfied: wrapt>=1.11.0 in c:\\programdata\\anaconda3\\lib\\site-packages (from tensorflow-intel==2.13.0->tensorflow) (1.14.1)\n",
      "Requirement already satisfied: grpcio<2.0,>=1.24.3 in c:\\users\\fssemwanga\\appdata\\roaming\\python\\python311\\site-packages (from tensorflow-intel==2.13.0->tensorflow) (1.57.0)\n",
      "Requirement already satisfied: tensorboard<2.14,>=2.13 in c:\\users\\fssemwanga\\appdata\\roaming\\python\\python311\\site-packages (from tensorflow-intel==2.13.0->tensorflow) (2.13.0)\n",
      "Requirement already satisfied: tensorflow-estimator<2.14,>=2.13.0 in c:\\users\\fssemwanga\\appdata\\roaming\\python\\python311\\site-packages (from tensorflow-intel==2.13.0->tensorflow) (2.13.0)\n",
      "Requirement already satisfied: keras<2.14,>=2.13.1 in c:\\users\\fssemwanga\\appdata\\roaming\\python\\python311\\site-packages (from tensorflow-intel==2.13.0->tensorflow) (2.13.1)\n",
      "Requirement already satisfied: tensorflow-io-gcs-filesystem>=0.23.1 in c:\\users\\fssemwanga\\appdata\\roaming\\python\\python311\\site-packages (from tensorflow-intel==2.13.0->tensorflow) (0.31.0)\n",
      "Requirement already satisfied: wheel<1.0,>=0.23.0 in c:\\programdata\\anaconda3\\lib\\site-packages (from astunparse>=1.6.0->tensorflow-intel==2.13.0->tensorflow) (0.38.4)\n",
      "Requirement already satisfied: google-auth<3,>=1.6.3 in c:\\users\\fssemwanga\\appdata\\roaming\\python\\python311\\site-packages (from tensorboard<2.14,>=2.13->tensorflow-intel==2.13.0->tensorflow) (2.22.0)\n",
      "Requirement already satisfied: google-auth-oauthlib<1.1,>=0.5 in c:\\users\\fssemwanga\\appdata\\roaming\\python\\python311\\site-packages (from tensorboard<2.14,>=2.13->tensorflow-intel==2.13.0->tensorflow) (1.0.0)\n",
      "Requirement already satisfied: markdown>=2.6.8 in c:\\programdata\\anaconda3\\lib\\site-packages (from tensorboard<2.14,>=2.13->tensorflow-intel==2.13.0->tensorflow) (3.4.1)\n",
      "Requirement already satisfied: requests<3,>=2.21.0 in c:\\programdata\\anaconda3\\lib\\site-packages (from tensorboard<2.14,>=2.13->tensorflow-intel==2.13.0->tensorflow) (2.31.0)\n",
      "Requirement already satisfied: tensorboard-data-server<0.8.0,>=0.7.0 in c:\\users\\fssemwanga\\appdata\\roaming\\python\\python311\\site-packages (from tensorboard<2.14,>=2.13->tensorflow-intel==2.13.0->tensorflow) (0.7.1)\n",
      "Requirement already satisfied: werkzeug>=1.0.1 in c:\\programdata\\anaconda3\\lib\\site-packages (from tensorboard<2.14,>=2.13->tensorflow-intel==2.13.0->tensorflow) (2.2.3)\n",
      "Requirement already satisfied: cachetools<6.0,>=2.0.0 in c:\\users\\fssemwanga\\appdata\\roaming\\python\\python311\\site-packages (from google-auth<3,>=1.6.3->tensorboard<2.14,>=2.13->tensorflow-intel==2.13.0->tensorflow) (5.3.1)\n",
      "Requirement already satisfied: pyasn1-modules>=0.2.1 in c:\\programdata\\anaconda3\\lib\\site-packages (from google-auth<3,>=1.6.3->tensorboard<2.14,>=2.13->tensorflow-intel==2.13.0->tensorflow) (0.2.8)\n",
      "Requirement already satisfied: rsa<5,>=3.1.4 in c:\\users\\fssemwanga\\appdata\\roaming\\python\\python311\\site-packages (from google-auth<3,>=1.6.3->tensorboard<2.14,>=2.13->tensorflow-intel==2.13.0->tensorflow) (4.9)\n",
      "Requirement already satisfied: urllib3<2.0 in c:\\programdata\\anaconda3\\lib\\site-packages (from google-auth<3,>=1.6.3->tensorboard<2.14,>=2.13->tensorflow-intel==2.13.0->tensorflow) (1.26.16)\n",
      "Requirement already satisfied: requests-oauthlib>=0.7.0 in c:\\users\\fssemwanga\\appdata\\roaming\\python\\python311\\site-packages (from google-auth-oauthlib<1.1,>=0.5->tensorboard<2.14,>=2.13->tensorflow-intel==2.13.0->tensorflow) (1.3.1)\n",
      "Requirement already satisfied: charset-normalizer<4,>=2 in c:\\programdata\\anaconda3\\lib\\site-packages (from requests<3,>=2.21.0->tensorboard<2.14,>=2.13->tensorflow-intel==2.13.0->tensorflow) (2.0.4)\n",
      "Requirement already satisfied: idna<4,>=2.5 in c:\\programdata\\anaconda3\\lib\\site-packages (from requests<3,>=2.21.0->tensorboard<2.14,>=2.13->tensorflow-intel==2.13.0->tensorflow) (3.4)\n",
      "Requirement already satisfied: certifi>=2017.4.17 in c:\\programdata\\anaconda3\\lib\\site-packages (from requests<3,>=2.21.0->tensorboard<2.14,>=2.13->tensorflow-intel==2.13.0->tensorflow) (2023.7.22)\n",
      "Requirement already satisfied: MarkupSafe>=2.1.1 in c:\\programdata\\anaconda3\\lib\\site-packages (from werkzeug>=1.0.1->tensorboard<2.14,>=2.13->tensorflow-intel==2.13.0->tensorflow) (2.1.1)\n",
      "Requirement already satisfied: pyasn1<0.5.0,>=0.4.6 in c:\\programdata\\anaconda3\\lib\\site-packages (from pyasn1-modules>=0.2.1->google-auth<3,>=1.6.3->tensorboard<2.14,>=2.13->tensorflow-intel==2.13.0->tensorflow) (0.4.8)\n",
      "Requirement already satisfied: oauthlib>=3.0.0 in c:\\users\\fssemwanga\\appdata\\roaming\\python\\python311\\site-packages (from requests-oauthlib>=0.7.0->google-auth-oauthlib<1.1,>=0.5->tensorboard<2.14,>=2.13->tensorflow-intel==2.13.0->tensorflow) (3.2.2)\n"
     ]
    }
   ],
   "source": [
    "# Install tensorflow\n",
    "!pip install tensorflow"
   ]
  },
  {
   "cell_type": "markdown",
   "metadata": {},
   "source": [
    "#### Importing the Libraries"
   ]
  },
  {
   "cell_type": "code",
   "execution_count": 88,
   "metadata": {},
   "outputs": [],
   "source": [
    "import pandas as pd\n",
    "import numpy as np\n",
    "import tensorflow as tf"
   ]
  },
  {
   "cell_type": "code",
   "execution_count": 89,
   "metadata": {},
   "outputs": [
    {
     "data": {
      "text/plain": [
       "'2.13.0'"
      ]
     },
     "execution_count": 89,
     "metadata": {},
     "output_type": "execute_result"
    }
   ],
   "source": [
    "tf.__version__"
   ]
  },
  {
   "cell_type": "markdown",
   "metadata": {},
   "source": [
    "### Part 1 - Data preprocessing"
   ]
  },
  {
   "cell_type": "markdown",
   "metadata": {},
   "source": [
    "#### Importing the dataset\n",
    "- exclude column which will have no impact on the outcome i.e. stay or leave (RowNumber, Customerid, Surname)"
   ]
  },
  {
   "cell_type": "code",
   "execution_count": 90,
   "metadata": {},
   "outputs": [],
   "source": [
    "dataset = pd.read_csv('../dataFiles/Churn_Modelling.csv')\n",
    "x = dataset.iloc[:, 3:-1].values\n",
    "y = dataset.iloc[:, -1].values"
   ]
  },
  {
   "cell_type": "code",
   "execution_count": 91,
   "metadata": {},
   "outputs": [
    {
     "name": "stdout",
     "output_type": "stream",
     "text": [
      "[[619 'France' 'Female' ... 1 1 101348.88]\n",
      " [608 'Spain' 'Female' ... 0 1 112542.58]\n",
      " [502 'France' 'Female' ... 1 0 113931.57]\n",
      " ...\n",
      " [709 'France' 'Female' ... 0 1 42085.58]\n",
      " [772 'Germany' 'Male' ... 1 0 92888.52]\n",
      " [792 'France' 'Female' ... 1 0 38190.78]]\n"
     ]
    }
   ],
   "source": [
    "print(x)"
   ]
  },
  {
   "cell_type": "code",
   "execution_count": 92,
   "metadata": {},
   "outputs": [
    {
     "name": "stdout",
     "output_type": "stream",
     "text": [
      "[1 0 1 ... 1 1 0]\n"
     ]
    }
   ],
   "source": [
    "print(y)"
   ]
  },
  {
   "cell_type": "markdown",
   "metadata": {},
   "source": [
    "#### Encoding categorical data\n",
    "\n",
    "- encode gender column using label encoding i.e. o and 1 for Gender has a relationship order\n",
    "- Encode 'Geography' column using OneHotEncoding as data has no relationship order between categories\n",
    "- No missing data so no need to take care of that"
   ]
  },
  {
   "cell_type": "markdown",
   "metadata": {},
   "source": [
    " ***Label encoder of the Gender column***"
   ]
  },
  {
   "cell_type": "code",
   "execution_count": 93,
   "metadata": {},
   "outputs": [],
   "source": [
    "\n",
    "\n",
    "#label encoding for gender column\n",
    "from sklearn.preprocessing import LabelEncoder\n",
    "le = LabelEncoder()\n",
    "x[:, 2] = le.fit_transform(x[:, 2]) # [:, 2] all rows and column 2"
   ]
  },
  {
   "cell_type": "markdown",
   "metadata": {},
   "source": [
    "***OneHotEncoding for the Geography column***"
   ]
  },
  {
   "cell_type": "code",
   "execution_count": 94,
   "metadata": {},
   "outputs": [
    {
     "name": "stdout",
     "output_type": "stream",
     "text": [
      "[[619 'France' 0 ... 1 1 101348.88]\n",
      " [608 'Spain' 0 ... 0 1 112542.58]\n",
      " [502 'France' 0 ... 1 0 113931.57]\n",
      " ...\n",
      " [709 'France' 0 ... 0 1 42085.58]\n",
      " [772 'Germany' 1 ... 1 0 92888.52]\n",
      " [792 'France' 0 ... 1 0 38190.78]]\n"
     ]
    }
   ],
   "source": [
    "print(x)"
   ]
  },
  {
   "cell_type": "markdown",
   "metadata": {},
   "source": [
    "***OneHotEncoding the 'Georgraphy' Column***"
   ]
  },
  {
   "cell_type": "code",
   "execution_count": 95,
   "metadata": {},
   "outputs": [],
   "source": [
    "from sklearn.compose import ColumnTransformer\n",
    "from sklearn.preprocessing import OneHotEncoder\n",
    "ct = ColumnTransformer(transformers=[('encoder', OneHotEncoder(), [1])], remainder='passthrough')\n",
    "x = np.array(ct.fit_transform(x))"
   ]
  },
  {
   "cell_type": "code",
   "execution_count": 96,
   "metadata": {},
   "outputs": [
    {
     "name": "stdout",
     "output_type": "stream",
     "text": [
      "[[1.0 0.0 0.0 ... 1 1 101348.88]\n",
      " [0.0 0.0 1.0 ... 0 1 112542.58]\n",
      " [1.0 0.0 0.0 ... 1 0 113931.57]\n",
      " ...\n",
      " [1.0 0.0 0.0 ... 0 1 42085.58]\n",
      " [0.0 1.0 0.0 ... 1 0 92888.52]\n",
      " [1.0 0.0 0.0 ... 1 0 38190.78]]\n"
     ]
    }
   ],
   "source": [
    "print(x)"
   ]
  },
  {
   "cell_type": "markdown",
   "metadata": {},
   "source": [
    "***Splitting the dataset into  the Training set and Test Set***\n"
   ]
  },
  {
   "cell_type": "code",
   "execution_count": 97,
   "metadata": {},
   "outputs": [],
   "source": [
    "from sklearn.model_selection import train_test_split\n",
    "x_train, x_test, y_train, y_test = train_test_split(x,y, test_size=0.2, random_state=0)"
   ]
  },
  {
   "cell_type": "markdown",
   "metadata": {},
   "source": [
    "##### Feature Scaling - it is compulsory for deep learning"
   ]
  },
  {
   "cell_type": "code",
   "execution_count": 98,
   "metadata": {},
   "outputs": [],
   "source": [
    "from sklearn.preprocessing import StandardScaler\n",
    "sc = StandardScaler()\n",
    "x_train = sc.fit_transform(x_train)\n",
    "x_test = sc.transform(x_test)"
   ]
  },
  {
   "cell_type": "markdown",
   "metadata": {},
   "source": [
    "### Part 2 - Building the ANN\n",
    "\n",
    "- Initialise the ANN as a sequence of layers\n",
    "- Add the input layer and the first hidden layer composed a certian number of neurons\n",
    "- add a second hidden layer to build a deep learning model instead of a shallow learning model\n",
    "- finally add the output layer which will predict our output\n"
   ]
  },
  {
   "cell_type": "markdown",
   "metadata": {},
   "source": [
    "***Initialising the ANN***"
   ]
  },
  {
   "cell_type": "code",
   "execution_count": 99,
   "metadata": {},
   "outputs": [],
   "source": [
    "# create a variable for an ANN network using the sequential class for a sequence of layers\n",
    "ann = tf.keras.models.Sequential()\n"
   ]
  },
  {
   "cell_type": "markdown",
   "metadata": {},
   "source": [
    "***Adding the input layer and  the first hidden layer***"
   ]
  },
  {
   "cell_type": "code",
   "execution_count": 100,
   "metadata": {},
   "outputs": [],
   "source": [
    "# add as an object of the dense class\n",
    "#unit = number of neurons - number depends on experimentation with different hyper parameters e.g. 6\n",
    "#activation function - must be the rectifier function with code name 'relu'\n",
    "ann.add(tf.keras.layers.Dense(units =6, activation='relu'))"
   ]
  },
  {
   "cell_type": "markdown",
   "metadata": {},
   "source": [
    "***Adding the second hidden layer***\n",
    "- similar to the above"
   ]
  },
  {
   "cell_type": "code",
   "execution_count": 101,
   "metadata": {},
   "outputs": [],
   "source": [
    "ann.add(tf.keras.layers.Dense(units =6, activation='relu'))"
   ]
  },
  {
   "cell_type": "markdown",
   "metadata": {},
   "source": [
    "***Adding the output layer***\n",
    "- units depend on the output dimension e.g. in this  example we only need a binary value hence 1 neuron\n",
    "- the value of the activation function it needs to be a sigmoid function as it allows the predictions and\n",
    "- probability and the binary output is 1, this will also give us the probability that the customer leaves the bank\n",
    "- for non binary classification the activation for the output layer should be **softmax** instead of ***sigmoid***"
   ]
  },
  {
   "cell_type": "code",
   "execution_count": 102,
   "metadata": {},
   "outputs": [],
   "source": [
    "\n",
    "ann.add(tf.keras.layers.Dense(units =1, activation='sigmoid'))"
   ]
  },
  {
   "cell_type": "markdown",
   "metadata": {},
   "source": [
    "### Part 3 - Training the ANN"
   ]
  },
  {
   "cell_type": "markdown",
   "metadata": {},
   "source": [
    "***Compiling the ANN***\n",
    "- Compile the ANN with an optimiser, loss function and a metric for accuracy because we are performing classification\n",
    "- Train the ANN on the training set over a certain number of Epochs\n",
    "\n",
    "- stochaistic gradient descent allows us to update the weights in order to reduce the error (loss) between the predictions and the real result\n",
    "- Best optimiser is one which can perform stochaistic gradient descent - Adam optimiser is the best\n",
    "- Loss function is computes the difference between the predictions and the real result - loss function must always be **'binary_crossentropy'** if we are dealing with a binary outclassification. For other ***classifications** it needs to be **'categorical_crossentropy'**\n",
    "- Accuracy is the final evaluation metric - the main metric is accuracy"
   ]
  },
  {
   "cell_type": "code",
   "execution_count": 103,
   "metadata": {},
   "outputs": [],
   "source": [
    "#parameters: optimizer, loss function and evaluation metric\n",
    "\n",
    "ann.compile(optimizer ='adam', loss ='binary_crossentropy' , metrics =['accuracy'])"
   ]
  },
  {
   "cell_type": "markdown",
   "metadata": {},
   "source": [
    "***Training the ANN on the Training Dataset***\n",
    "- use batch learning as it is a lot more efficient when training a model, classic batch size = 32\n",
    "- epochs improve the performance of the mode over time"
   ]
  },
  {
   "cell_type": "code",
   "execution_count": 104,
   "metadata": {},
   "outputs": [
    {
     "name": "stdout",
     "output_type": "stream",
     "text": [
      "Epoch 1/100\n"
     ]
    },
    {
     "name": "stdout",
     "output_type": "stream",
     "text": [
      "250/250 [==============================] - 1s 949us/step - loss: 0.6501 - accuracy: 0.6700\n",
      "Epoch 2/100\n",
      "250/250 [==============================] - 0s 1ms/step - loss: 0.4926 - accuracy: 0.8043\n",
      "Epoch 3/100\n",
      "250/250 [==============================] - 0s 982us/step - loss: 0.4507 - accuracy: 0.8116\n",
      "Epoch 4/100\n",
      "250/250 [==============================] - 0s 1ms/step - loss: 0.4352 - accuracy: 0.8146\n",
      "Epoch 5/100\n",
      "250/250 [==============================] - 0s 997us/step - loss: 0.4251 - accuracy: 0.8191\n",
      "Epoch 6/100\n",
      "250/250 [==============================] - 0s 1ms/step - loss: 0.4168 - accuracy: 0.8224\n",
      "Epoch 7/100\n",
      "250/250 [==============================] - 0s 962us/step - loss: 0.4087 - accuracy: 0.8240\n",
      "Epoch 8/100\n",
      "250/250 [==============================] - 0s 1ms/step - loss: 0.4001 - accuracy: 0.8269\n",
      "Epoch 9/100\n",
      "250/250 [==============================] - 0s 1ms/step - loss: 0.3903 - accuracy: 0.8305\n",
      "Epoch 10/100\n",
      "250/250 [==============================] - 0s 1ms/step - loss: 0.3795 - accuracy: 0.8375\n",
      "Epoch 11/100\n",
      "250/250 [==============================] - 0s 1ms/step - loss: 0.3699 - accuracy: 0.8432\n",
      "Epoch 12/100\n",
      "250/250 [==============================] - 0s 988us/step - loss: 0.3621 - accuracy: 0.8459\n",
      "Epoch 13/100\n",
      "250/250 [==============================] - 0s 1ms/step - loss: 0.3555 - accuracy: 0.8485\n",
      "Epoch 14/100\n",
      "250/250 [==============================] - 0s 935us/step - loss: 0.3510 - accuracy: 0.8508\n",
      "Epoch 15/100\n",
      "250/250 [==============================] - 0s 917us/step - loss: 0.3470 - accuracy: 0.8533\n",
      "Epoch 16/100\n",
      "250/250 [==============================] - 0s 1ms/step - loss: 0.3445 - accuracy: 0.8551\n",
      "Epoch 17/100\n",
      "250/250 [==============================] - 0s 935us/step - loss: 0.3432 - accuracy: 0.8554\n",
      "Epoch 18/100\n",
      "250/250 [==============================] - 0s 925us/step - loss: 0.3410 - accuracy: 0.8589\n",
      "Epoch 19/100\n",
      "250/250 [==============================] - 0s 969us/step - loss: 0.3398 - accuracy: 0.8574\n",
      "Epoch 20/100\n",
      "250/250 [==============================] - 0s 941us/step - loss: 0.3389 - accuracy: 0.8584\n",
      "Epoch 21/100\n",
      "250/250 [==============================] - 0s 911us/step - loss: 0.3384 - accuracy: 0.8586\n",
      "Epoch 22/100\n",
      "250/250 [==============================] - 0s 901us/step - loss: 0.3378 - accuracy: 0.8608\n",
      "Epoch 23/100\n",
      "250/250 [==============================] - 0s 1ms/step - loss: 0.3372 - accuracy: 0.8616\n",
      "Epoch 24/100\n",
      "250/250 [==============================] - 0s 941us/step - loss: 0.3371 - accuracy: 0.8610\n",
      "Epoch 25/100\n",
      "250/250 [==============================] - 0s 879us/step - loss: 0.3362 - accuracy: 0.8619\n",
      "Epoch 26/100\n",
      "250/250 [==============================] - 0s 940us/step - loss: 0.3360 - accuracy: 0.8606\n",
      "Epoch 27/100\n",
      "250/250 [==============================] - 0s 915us/step - loss: 0.3350 - accuracy: 0.8626\n",
      "Epoch 28/100\n",
      "250/250 [==============================] - 0s 945us/step - loss: 0.3353 - accuracy: 0.8605\n",
      "Epoch 29/100\n",
      "250/250 [==============================] - 0s 915us/step - loss: 0.3353 - accuracy: 0.8604\n",
      "Epoch 30/100\n",
      "250/250 [==============================] - 0s 904us/step - loss: 0.3348 - accuracy: 0.8614\n",
      "Epoch 31/100\n",
      "250/250 [==============================] - 0s 851us/step - loss: 0.3345 - accuracy: 0.8604\n",
      "Epoch 32/100\n",
      "250/250 [==============================] - 0s 912us/step - loss: 0.3344 - accuracy: 0.8614\n",
      "Epoch 33/100\n",
      "250/250 [==============================] - 0s 955us/step - loss: 0.3345 - accuracy: 0.8616\n",
      "Epoch 34/100\n",
      "250/250 [==============================] - 0s 928us/step - loss: 0.3344 - accuracy: 0.8606\n",
      "Epoch 35/100\n",
      "250/250 [==============================] - 0s 932us/step - loss: 0.3336 - accuracy: 0.8625\n",
      "Epoch 36/100\n",
      "250/250 [==============================] - 0s 960us/step - loss: 0.3337 - accuracy: 0.8625\n",
      "Epoch 37/100\n",
      "250/250 [==============================] - 0s 889us/step - loss: 0.3342 - accuracy: 0.8601\n",
      "Epoch 38/100\n",
      "250/250 [==============================] - 0s 922us/step - loss: 0.3335 - accuracy: 0.8609\n",
      "Epoch 39/100\n",
      "250/250 [==============================] - 0s 1ms/step - loss: 0.3334 - accuracy: 0.8599\n",
      "Epoch 40/100\n",
      "250/250 [==============================] - 0s 985us/step - loss: 0.3334 - accuracy: 0.8615\n",
      "Epoch 41/100\n",
      "250/250 [==============================] - 0s 918us/step - loss: 0.3329 - accuracy: 0.8616\n",
      "Epoch 42/100\n",
      "250/250 [==============================] - 0s 933us/step - loss: 0.3329 - accuracy: 0.8614\n",
      "Epoch 43/100\n",
      "250/250 [==============================] - 0s 892us/step - loss: 0.3326 - accuracy: 0.8619\n",
      "Epoch 44/100\n",
      "250/250 [==============================] - 0s 1ms/step - loss: 0.3327 - accuracy: 0.8615\n",
      "Epoch 45/100\n",
      "250/250 [==============================] - 0s 940us/step - loss: 0.3328 - accuracy: 0.8608\n",
      "Epoch 46/100\n",
      "250/250 [==============================] - 0s 909us/step - loss: 0.3325 - accuracy: 0.8619\n",
      "Epoch 47/100\n",
      "250/250 [==============================] - 0s 932us/step - loss: 0.3323 - accuracy: 0.8614\n",
      "Epoch 48/100\n",
      "250/250 [==============================] - 0s 958us/step - loss: 0.3323 - accuracy: 0.8621\n",
      "Epoch 49/100\n",
      "250/250 [==============================] - 0s 975us/step - loss: 0.3321 - accuracy: 0.8618\n",
      "Epoch 50/100\n",
      "250/250 [==============================] - 0s 932us/step - loss: 0.3325 - accuracy: 0.8633\n",
      "Epoch 51/100\n",
      "250/250 [==============================] - 0s 962us/step - loss: 0.3323 - accuracy: 0.8627\n",
      "Epoch 52/100\n",
      "250/250 [==============================] - 0s 926us/step - loss: 0.3318 - accuracy: 0.8618\n",
      "Epoch 53/100\n",
      "250/250 [==============================] - 0s 993us/step - loss: 0.3321 - accuracy: 0.8614\n",
      "Epoch 54/100\n",
      "250/250 [==============================] - 0s 1ms/step - loss: 0.3319 - accuracy: 0.8620\n",
      "Epoch 55/100\n",
      "250/250 [==============================] - 0s 1ms/step - loss: 0.3318 - accuracy: 0.8630\n",
      "Epoch 56/100\n",
      "250/250 [==============================] - 0s 1ms/step - loss: 0.3317 - accuracy: 0.8620\n",
      "Epoch 57/100\n",
      "250/250 [==============================] - 0s 1ms/step - loss: 0.3317 - accuracy: 0.8637\n",
      "Epoch 58/100\n",
      "250/250 [==============================] - 0s 1ms/step - loss: 0.3314 - accuracy: 0.8627\n",
      "Epoch 59/100\n",
      "250/250 [==============================] - 0s 950us/step - loss: 0.3319 - accuracy: 0.8629\n",
      "Epoch 60/100\n",
      "250/250 [==============================] - 0s 966us/step - loss: 0.3314 - accuracy: 0.8648\n",
      "Epoch 61/100\n",
      "250/250 [==============================] - 0s 1ms/step - loss: 0.3311 - accuracy: 0.8634\n",
      "Epoch 62/100\n",
      "250/250 [==============================] - 0s 979us/step - loss: 0.3315 - accuracy: 0.8630\n",
      "Epoch 63/100\n",
      "250/250 [==============================] - 0s 1ms/step - loss: 0.3315 - accuracy: 0.8619\n",
      "Epoch 64/100\n",
      "250/250 [==============================] - 0s 1ms/step - loss: 0.3310 - accuracy: 0.8640\n",
      "Epoch 65/100\n",
      "250/250 [==============================] - 0s 1ms/step - loss: 0.3309 - accuracy: 0.8626\n",
      "Epoch 66/100\n",
      "250/250 [==============================] - 0s 1ms/step - loss: 0.3310 - accuracy: 0.8630\n",
      "Epoch 67/100\n",
      "250/250 [==============================] - 0s 944us/step - loss: 0.3310 - accuracy: 0.8639\n",
      "Epoch 68/100\n",
      "250/250 [==============================] - 0s 940us/step - loss: 0.3313 - accuracy: 0.8627\n",
      "Epoch 69/100\n",
      "250/250 [==============================] - 0s 1ms/step - loss: 0.3308 - accuracy: 0.8627\n",
      "Epoch 70/100\n",
      "250/250 [==============================] - 0s 931us/step - loss: 0.3307 - accuracy: 0.8636\n",
      "Epoch 71/100\n",
      "250/250 [==============================] - 0s 969us/step - loss: 0.3309 - accuracy: 0.8637\n",
      "Epoch 72/100\n",
      "250/250 [==============================] - 0s 1ms/step - loss: 0.3312 - accuracy: 0.8636\n",
      "Epoch 73/100\n",
      "250/250 [==============================] - 0s 963us/step - loss: 0.3305 - accuracy: 0.8631\n",
      "Epoch 74/100\n",
      "250/250 [==============================] - 0s 939us/step - loss: 0.3306 - accuracy: 0.8625\n",
      "Epoch 75/100\n",
      "250/250 [==============================] - 0s 935us/step - loss: 0.3304 - accuracy: 0.8627\n",
      "Epoch 76/100\n",
      "250/250 [==============================] - 0s 1ms/step - loss: 0.3304 - accuracy: 0.8650\n",
      "Epoch 77/100\n",
      "250/250 [==============================] - 0s 1ms/step - loss: 0.3305 - accuracy: 0.8630\n",
      "Epoch 78/100\n",
      "250/250 [==============================] - 0s 945us/step - loss: 0.3305 - accuracy: 0.8634\n",
      "Epoch 79/100\n",
      "250/250 [==============================] - 0s 954us/step - loss: 0.3308 - accuracy: 0.8636\n",
      "Epoch 80/100\n",
      "250/250 [==============================] - 0s 969us/step - loss: 0.3305 - accuracy: 0.8624\n",
      "Epoch 81/100\n",
      "250/250 [==============================] - 0s 990us/step - loss: 0.3299 - accuracy: 0.8620\n",
      "Epoch 82/100\n",
      "250/250 [==============================] - 0s 967us/step - loss: 0.3302 - accuracy: 0.8643\n",
      "Epoch 83/100\n",
      "250/250 [==============================] - 0s 967us/step - loss: 0.3306 - accuracy: 0.8637\n",
      "Epoch 84/100\n",
      "250/250 [==============================] - 0s 978us/step - loss: 0.3303 - accuracy: 0.8625\n",
      "Epoch 85/100\n",
      "250/250 [==============================] - 0s 1ms/step - loss: 0.3301 - accuracy: 0.8629\n",
      "Epoch 86/100\n",
      "250/250 [==============================] - 0s 956us/step - loss: 0.3299 - accuracy: 0.8634\n",
      "Epoch 87/100\n",
      "250/250 [==============================] - 0s 1ms/step - loss: 0.3303 - accuracy: 0.8639\n",
      "Epoch 88/100\n",
      "250/250 [==============================] - 0s 1ms/step - loss: 0.3300 - accuracy: 0.8630\n",
      "Epoch 89/100\n",
      "250/250 [==============================] - 0s 1ms/step - loss: 0.3303 - accuracy: 0.8626\n",
      "Epoch 90/100\n",
      "250/250 [==============================] - 0s 1ms/step - loss: 0.3302 - accuracy: 0.8631\n",
      "Epoch 91/100\n",
      "250/250 [==============================] - 0s 1ms/step - loss: 0.3304 - accuracy: 0.8624\n",
      "Epoch 92/100\n",
      "250/250 [==============================] - 0s 971us/step - loss: 0.3300 - accuracy: 0.8634\n",
      "Epoch 93/100\n",
      "250/250 [==============================] - 0s 988us/step - loss: 0.3299 - accuracy: 0.8640\n",
      "Epoch 94/100\n",
      "250/250 [==============================] - 0s 1ms/step - loss: 0.3299 - accuracy: 0.8634\n",
      "Epoch 95/100\n",
      "250/250 [==============================] - 0s 945us/step - loss: 0.3299 - accuracy: 0.8633\n",
      "Epoch 96/100\n",
      "250/250 [==============================] - 0s 1ms/step - loss: 0.3296 - accuracy: 0.8639\n",
      "Epoch 97/100\n",
      "250/250 [==============================] - 0s 1ms/step - loss: 0.3299 - accuracy: 0.8643\n",
      "Epoch 98/100\n",
      "250/250 [==============================] - 0s 1ms/step - loss: 0.3299 - accuracy: 0.8629\n",
      "Epoch 99/100\n",
      "250/250 [==============================] - 0s 1ms/step - loss: 0.3295 - accuracy: 0.8633\n",
      "Epoch 100/100\n",
      "250/250 [==============================] - 0s 1ms/step - loss: 0.3298 - accuracy: 0.8634\n"
     ]
    },
    {
     "data": {
      "text/plain": [
       "<keras.src.callbacks.History at 0x22666ac8f50>"
      ]
     },
     "execution_count": 104,
     "metadata": {},
     "output_type": "execute_result"
    }
   ],
   "source": [
    "ann.fit(x_train, y_train, batch_size =32, epochs =100)"
   ]
  },
  {
   "cell_type": "markdown",
   "metadata": {},
   "source": [
    "### Part 4: Making the predictions and evaluating the model"
   ]
  },
  {
   "cell_type": "markdown",
   "metadata": {},
   "source": [
    "#### Challenge\n",
    "Use the above ANN to predict if a customer with the following information will leave the back:\n",
    "- Georgraphy: France\n",
    "- CreditScore:600\n",
    "- Gender: Male\n",
    "- Age: 40 Years Old\n",
    "- Tenure: 3 Years\n",
    "- Balance:$60000\n",
    "- Number of products: 2\n",
    "- Does this customer have a credit card? Yes\n",
    "- Is this customer an Active Member: Yes\n",
    "- Estimated Salary: $50000\n",
    "- Should be way goodbye to this customer? "
   ]
  },
  {
   "cell_type": "markdown",
   "metadata": {},
   "source": [
    "#### Predicting the result of a single observation"
   ]
  },
  {
   "cell_type": "code",
   "execution_count": 105,
   "metadata": {},
   "outputs": [
    {
     "name": "stdout",
     "output_type": "stream",
     "text": [
      "1/1 [==============================] - 0s 57ms/step\n",
      "[[False]]\n"
     ]
    }
   ],
   "source": [
    "test_sample = [[600,'France', 'Male', 40, 3, 60000, 2,1,1,50000]] \n",
    "#input must be a 2d array whether it is a single outcome or multiple\n",
    "# prediction is returned in form of a probability\n",
    "# apply the scaling which was used to train the mode\n",
    "print(ann.predict(sc.transform([[1, 0,0, 600, 1, 40, 3, 60000, 2,1,1,50000]]))>0.5)"
   ]
  },
  {
   "cell_type": "markdown",
   "metadata": {},
   "source": [
    "***Outcome is that the customer will not leave the Bank***"
   ]
  },
  {
   "cell_type": "markdown",
   "metadata": {},
   "source": [
    "***Predicting Test set results***"
   ]
  },
  {
   "cell_type": "code",
   "execution_count": 106,
   "metadata": {},
   "outputs": [
    {
     "name": "stdout",
     "output_type": "stream",
     "text": [
      "63/63 [==============================] - 0s 821us/step\n",
      "[[0 0]\n",
      " [0 1]\n",
      " [0 0]\n",
      " ...\n",
      " [0 0]\n",
      " [0 0]\n",
      " [0 0]]\n"
     ]
    }
   ],
   "source": [
    "y_pred = ann.predict(x_test)\n",
    "#convert the predicted to binary outcomes\n",
    "y_pred = (y_pred > 0.5)\n",
    "print(np.concatenate((y_pred.reshape(len(y_pred), 1), y_test.reshape(len(y_test),1)),1))"
   ]
  },
  {
   "cell_type": "markdown",
   "metadata": {},
   "source": [
    "***Making the confusion Matrix***"
   ]
  },
  {
   "cell_type": "code",
   "execution_count": 107,
   "metadata": {},
   "outputs": [
    {
     "name": "stdout",
     "output_type": "stream",
     "text": [
      "[[1511   84]\n",
      " [ 196  209]]\n"
     ]
    },
    {
     "data": {
      "text/plain": [
       "0.86"
      ]
     },
     "execution_count": 107,
     "metadata": {},
     "output_type": "execute_result"
    }
   ],
   "source": [
    "from sklearn.metrics import confusion_matrix, accuracy_score\n",
    "cm = confusion_matrix(y_test, y_pred)\n",
    "print(cm)\n",
    "accuracy_score(y_test, y_pred)"
   ]
  }
 ],
 "metadata": {
  "kernelspec": {
   "display_name": "Python 3",
   "language": "python",
   "name": "python3"
  },
  "language_info": {
   "codemirror_mode": {
    "name": "ipython",
    "version": 3
   },
   "file_extension": ".py",
   "mimetype": "text/x-python",
   "name": "python",
   "nbconvert_exporter": "python",
   "pygments_lexer": "ipython3",
   "version": "3.11.4"
  },
  "orig_nbformat": 4
 },
 "nbformat": 4,
 "nbformat_minor": 2
}
