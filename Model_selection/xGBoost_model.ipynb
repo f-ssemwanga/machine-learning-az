{
 "cells": [
  {
   "cell_type": "markdown",
   "metadata": {},
   "source": [
    "#### XGBoost"
   ]
  },
  {
   "cell_type": "code",
   "execution_count": 9,
   "metadata": {},
   "outputs": [
    {
     "name": "stdout",
     "output_type": "stream",
     "text": [
      "Defaulting to user installation because normal site-packages is not writeable\n",
      "Collecting xgboost\n",
      "  Obtaining dependency information for xgboost from https://files.pythonhosted.org/packages/75/dd/9afe0d9d0f61a5384c3932626a022e38c396a5d88e6f5345ad2f7b576747/xgboost-1.7.6-py3-none-win_amd64.whl.metadata\n",
      "  Downloading xgboost-1.7.6-py3-none-win_amd64.whl.metadata (1.9 kB)\n",
      "Requirement already satisfied: numpy in c:\\programdata\\anaconda3\\lib\\site-packages (from xgboost) (1.24.3)\n",
      "Requirement already satisfied: scipy in c:\\programdata\\anaconda3\\lib\\site-packages (from xgboost) (1.10.1)\n",
      "Downloading xgboost-1.7.6-py3-none-win_amd64.whl (70.9 MB)\n",
      "   ---------------------------------------- 0.0/70.9 MB ? eta -:--:--\n",
      "   ---------------------------------------- 0.1/70.9 MB 2.4 MB/s eta 0:00:30\n",
      "   ---------------------------------------- 0.3/70.9 MB 3.5 MB/s eta 0:00:21\n",
      "    --------------------------------------- 1.0/70.9 MB 6.9 MB/s eta 0:00:11\n",
      "    --------------------------------------- 1.5/70.9 MB 8.8 MB/s eta 0:00:08\n",
      "    --------------------------------------- 1.5/70.9 MB 8.8 MB/s eta 0:00:08\n",
      "   - -------------------------------------- 2.4/70.9 MB 8.5 MB/s eta 0:00:09\n",
      "   - -------------------------------------- 3.1/70.9 MB 9.3 MB/s eta 0:00:08\n",
      "   -- ------------------------------------- 3.6/70.9 MB 9.6 MB/s eta 0:00:08\n",
      "   -- ------------------------------------- 4.2/70.9 MB 10.0 MB/s eta 0:00:07\n",
      "   -- ------------------------------------- 4.8/70.9 MB 10.3 MB/s eta 0:00:07\n",
      "   --- ------------------------------------ 5.4/70.9 MB 10.5 MB/s eta 0:00:07\n",
      "   --- ------------------------------------ 6.1/70.9 MB 11.1 MB/s eta 0:00:06\n",
      "   --- ------------------------------------ 6.7/70.9 MB 11.3 MB/s eta 0:00:06\n",
      "   ---- ----------------------------------- 7.3/70.9 MB 11.4 MB/s eta 0:00:06\n",
      "   ---- ----------------------------------- 8.0/70.9 MB 11.6 MB/s eta 0:00:06\n",
      "   ---- ----------------------------------- 8.5/70.9 MB 11.6 MB/s eta 0:00:06\n",
      "   ----- ---------------------------------- 9.1/70.9 MB 11.7 MB/s eta 0:00:06\n",
      "   ----- ---------------------------------- 9.7/70.9 MB 11.7 MB/s eta 0:00:06\n",
      "   ----- ---------------------------------- 10.4/70.9 MB 12.6 MB/s eta 0:00:05\n",
      "   ------ --------------------------------- 11.0/70.9 MB 13.1 MB/s eta 0:00:05\n",
      "   ------ --------------------------------- 11.6/70.9 MB 12.9 MB/s eta 0:00:05\n",
      "   ------ --------------------------------- 12.3/70.9 MB 13.4 MB/s eta 0:00:05\n",
      "   ------- -------------------------------- 12.8/70.9 MB 13.6 MB/s eta 0:00:05\n",
      "   ------- -------------------------------- 13.5/70.9 MB 13.4 MB/s eta 0:00:05\n",
      "   ------- -------------------------------- 14.1/70.9 MB 13.4 MB/s eta 0:00:05\n",
      "   -------- ------------------------------- 14.6/70.9 MB 13.6 MB/s eta 0:00:05\n",
      "   -------- ------------------------------- 15.2/70.9 MB 13.1 MB/s eta 0:00:05\n",
      "   -------- ------------------------------- 16.0/70.9 MB 13.4 MB/s eta 0:00:05\n",
      "   --------- ------------------------------ 16.6/70.9 MB 13.6 MB/s eta 0:00:04\n",
      "   --------- ------------------------------ 17.3/70.9 MB 13.6 MB/s eta 0:00:04\n",
      "   ---------- ----------------------------- 18.0/70.9 MB 13.9 MB/s eta 0:00:04\n",
      "   ---------- ----------------------------- 18.8/70.9 MB 14.2 MB/s eta 0:00:04\n",
      "   ---------- ----------------------------- 19.3/70.9 MB 14.2 MB/s eta 0:00:04\n",
      "   ----------- ---------------------------- 19.8/70.9 MB 13.6 MB/s eta 0:00:04\n",
      "   ----------- ---------------------------- 20.5/70.9 MB 13.6 MB/s eta 0:00:04\n",
      "   ----------- ---------------------------- 21.3/70.9 MB 13.9 MB/s eta 0:00:04\n",
      "   ------------ --------------------------- 22.0/70.9 MB 14.2 MB/s eta 0:00:04\n",
      "   ------------ --------------------------- 22.8/70.9 MB 14.2 MB/s eta 0:00:04\n",
      "   ------------- -------------------------- 23.5/70.9 MB 14.5 MB/s eta 0:00:04\n",
      "   ------------- -------------------------- 24.2/70.9 MB 14.6 MB/s eta 0:00:04\n",
      "   -------------- ------------------------- 25.0/70.9 MB 15.2 MB/s eta 0:00:04\n",
      "   -------------- ------------------------- 25.7/70.9 MB 14.9 MB/s eta 0:00:04\n",
      "   -------------- ------------------------- 26.4/70.9 MB 15.2 MB/s eta 0:00:03\n",
      "   --------------- ------------------------ 27.2/70.9 MB 15.2 MB/s eta 0:00:03\n",
      "   --------------- ------------------------ 27.9/70.9 MB 15.2 MB/s eta 0:00:03\n",
      "   ---------------- ----------------------- 28.4/70.9 MB 15.2 MB/s eta 0:00:03\n",
      "   ---------------- ----------------------- 29.2/70.9 MB 14.9 MB/s eta 0:00:03\n",
      "   ---------------- ----------------------- 29.9/70.9 MB 15.2 MB/s eta 0:00:03\n",
      "   ----------------- ---------------------- 30.7/70.9 MB 15.6 MB/s eta 0:00:03\n",
      "   ----------------- ---------------------- 31.5/70.9 MB 15.6 MB/s eta 0:00:03\n",
      "   ------------------ --------------------- 32.0/70.9 MB 15.6 MB/s eta 0:00:03\n",
      "   ------------------ --------------------- 32.7/70.9 MB 15.2 MB/s eta 0:00:03\n",
      "   ------------------ --------------------- 33.5/70.9 MB 15.2 MB/s eta 0:00:03\n",
      "   ------------------- -------------------- 34.4/70.9 MB 15.6 MB/s eta 0:00:03\n",
      "   ------------------- -------------------- 35.2/70.9 MB 15.6 MB/s eta 0:00:03\n",
      "   -------------------- ------------------- 35.9/70.9 MB 15.6 MB/s eta 0:00:03\n",
      "   -------------------- ------------------- 36.7/70.9 MB 15.6 MB/s eta 0:00:03\n",
      "   --------------------- ------------------ 37.5/70.9 MB 15.6 MB/s eta 0:00:03\n",
      "   --------------------- ------------------ 38.3/70.9 MB 15.6 MB/s eta 0:00:03\n",
      "   ---------------------- ----------------- 39.0/70.9 MB 16.0 MB/s eta 0:00:02\n",
      "   ---------------------- ----------------- 39.9/70.9 MB 16.4 MB/s eta 0:00:02\n",
      "   ---------------------- ----------------- 40.7/70.9 MB 16.8 MB/s eta 0:00:02\n",
      "   ----------------------- ---------------- 41.6/70.9 MB 16.8 MB/s eta 0:00:02\n",
      "   ----------------------- ---------------- 42.4/70.9 MB 17.2 MB/s eta 0:00:02\n",
      "   ------------------------ --------------- 43.2/70.9 MB 17.7 MB/s eta 0:00:02\n",
      "   ------------------------ --------------- 44.1/70.9 MB 17.2 MB/s eta 0:00:02\n",
      "   ------------------------- -------------- 44.9/70.9 MB 17.7 MB/s eta 0:00:02\n",
      "   ------------------------- -------------- 45.7/70.9 MB 17.7 MB/s eta 0:00:02\n",
      "   -------------------------- ------------- 46.4/70.9 MB 17.7 MB/s eta 0:00:02\n",
      "   -------------------------- ------------- 47.0/70.9 MB 17.2 MB/s eta 0:00:02\n",
      "   -------------------------- ------------- 47.9/70.9 MB 17.2 MB/s eta 0:00:02\n",
      "   --------------------------- ------------ 48.6/70.9 MB 17.2 MB/s eta 0:00:02\n",
      "   --------------------------- ------------ 49.5/70.9 MB 17.2 MB/s eta 0:00:02\n",
      "   ---------------------------- ----------- 50.3/70.9 MB 17.2 MB/s eta 0:00:02\n",
      "   ---------------------------- ----------- 51.2/70.9 MB 17.3 MB/s eta 0:00:02\n",
      "   ----------------------------- ---------- 51.9/70.9 MB 17.3 MB/s eta 0:00:02\n",
      "   ----------------------------- ---------- 52.8/70.9 MB 17.2 MB/s eta 0:00:02\n",
      "   ------------------------------ --------- 53.5/70.9 MB 17.2 MB/s eta 0:00:02\n",
      "   ------------------------------ --------- 54.3/70.9 MB 17.2 MB/s eta 0:00:01\n",
      "   ------------------------------- -------- 55.1/70.9 MB 17.2 MB/s eta 0:00:01\n",
      "   ------------------------------- -------- 56.0/70.9 MB 17.2 MB/s eta 0:00:01\n",
      "   -------------------------------- ------- 56.8/70.9 MB 17.7 MB/s eta 0:00:01\n",
      "   -------------------------------- ------- 57.5/70.9 MB 17.3 MB/s eta 0:00:01\n",
      "   -------------------------------- ------- 58.3/70.9 MB 17.3 MB/s eta 0:00:01\n",
      "   --------------------------------- ------ 59.2/70.9 MB 17.7 MB/s eta 0:00:01\n",
      "   --------------------------------- ------ 60.0/70.9 MB 17.2 MB/s eta 0:00:01\n",
      "   ---------------------------------- ----- 60.8/70.9 MB 17.2 MB/s eta 0:00:01\n",
      "   ---------------------------------- ----- 61.6/70.9 MB 17.2 MB/s eta 0:00:01\n",
      "   ----------------------------------- ---- 62.4/70.9 MB 17.7 MB/s eta 0:00:01\n",
      "   ----------------------------------- ---- 63.1/70.9 MB 17.7 MB/s eta 0:00:01\n",
      "   ------------------------------------ --- 64.0/70.9 MB 17.7 MB/s eta 0:00:01\n",
      "   ------------------------------------ --- 64.7/70.9 MB 17.2 MB/s eta 0:00:01\n",
      "   ------------------------------------ --- 65.2/70.9 MB 16.8 MB/s eta 0:00:01\n",
      "   ------------------------------------- -- 65.8/70.9 MB 16.4 MB/s eta 0:00:01\n",
      "   ------------------------------------- -- 66.6/70.9 MB 16.4 MB/s eta 0:00:01\n",
      "   ------------------------------------- -- 67.3/70.9 MB 16.4 MB/s eta 0:00:01\n",
      "   -------------------------------------- - 67.5/70.9 MB 16.4 MB/s eta 0:00:01\n",
      "   -------------------------------------- - 68.0/70.9 MB 14.9 MB/s eta 0:00:01\n",
      "   -------------------------------------- - 68.6/70.9 MB 14.9 MB/s eta 0:00:01\n",
      "   ---------------------------------------  69.2/70.9 MB 14.6 MB/s eta 0:00:01\n",
      "   ---------------------------------------  69.8/70.9 MB 14.2 MB/s eta 0:00:01\n",
      "   ---------------------------------------  70.4/70.9 MB 14.2 MB/s eta 0:00:01\n",
      "   ---------------------------------------  70.9/70.9 MB 13.9 MB/s eta 0:00:01\n",
      "   ---------------------------------------  70.9/70.9 MB 13.9 MB/s eta 0:00:01\n",
      "   ---------------------------------------  70.9/70.9 MB 13.9 MB/s eta 0:00:01\n",
      "   ---------------------------------------  70.9/70.9 MB 13.9 MB/s eta 0:00:01\n",
      "   ---------------------------------------- 70.9/70.9 MB 10.9 MB/s eta 0:00:00\n",
      "Installing collected packages: xgboost\n",
      "Successfully installed xgboost-1.7.6\n"
     ]
    }
   ],
   "source": [
    "#install xgboost\n",
    "! pip install xgboost"
   ]
  },
  {
   "cell_type": "markdown",
   "metadata": {},
   "source": [
    "#### import Libraries"
   ]
  },
  {
   "cell_type": "code",
   "execution_count": 1,
   "metadata": {},
   "outputs": [],
   "source": [
    "import numpy as np\n",
    "import matplotlib.pyplot as plt\n",
    "import pandas as pd"
   ]
  },
  {
   "cell_type": "markdown",
   "metadata": {},
   "source": [
    "#### Splitting the data into the training set and the test set"
   ]
  },
  {
   "cell_type": "code",
   "execution_count": 5,
   "metadata": {},
   "outputs": [],
   "source": [
    "dataset = pd.read_csv('../dataFiles/breast_cancer.csv')\n",
    "\n",
    "x = dataset.iloc[:, :-1].values\n",
    "y = dataset.iloc[: , -1].values"
   ]
  },
  {
   "cell_type": "code",
   "execution_count": 7,
   "metadata": {},
   "outputs": [
    {
     "name": "stdout",
     "output_type": "stream",
     "text": [
      "[[1000025       5       1       1       1       2       1       3       1\n",
      "        1]\n",
      " [1002945       5       4       4       5       7      10       3       2\n",
      "        1]\n",
      " [1015425       3       1       1       1       2       2       3       1\n",
      "        1]\n",
      " [1016277       6       8       8       1       3       4       3       7\n",
      "        1]\n",
      " [1017023       4       1       1       3       2       1       3       1\n",
      "        1]\n",
      " [1017122       8      10      10       8       7      10       9       7\n",
      "        1]\n",
      " [1018099       1       1       1       1       2      10       3       1\n",
      "        1]\n",
      " [1018561       2       1       2       1       2       1       3       1\n",
      "        1]\n",
      " [1033078       2       1       1       1       2       1       1       1\n",
      "        5]\n",
      " [1033078       4       2       1       1       2       1       2       1\n",
      "        1]]\n",
      "[2 2 2 2 2 4 2 2 2 2]\n"
     ]
    }
   ],
   "source": [
    "print(f'{x[:10]}\\n{y[:10]}')"
   ]
  },
  {
   "cell_type": "markdown",
   "metadata": {},
   "source": [
    "#### Split the dataset into the Training Set and Test Set"
   ]
  },
  {
   "cell_type": "code",
   "execution_count": 12,
   "metadata": {},
   "outputs": [],
   "source": [
    "from sklearn.model_selection import train_test_split\n",
    "x_train, x_test, y_train, y_test = train_test_split(x,y, test_size=0.2, random_state=0)"
   ]
  },
  {
   "cell_type": "markdown",
   "metadata": {},
   "source": [
    "#### Training XGBoost on the Training Set"
   ]
  },
  {
   "cell_type": "code",
   "execution_count": 14,
   "metadata": {},
   "outputs": [
    {
     "data": {
      "text/html": [
       "<style>#sk-container-id-1 {color: black;}#sk-container-id-1 pre{padding: 0;}#sk-container-id-1 div.sk-toggleable {background-color: white;}#sk-container-id-1 label.sk-toggleable__label {cursor: pointer;display: block;width: 100%;margin-bottom: 0;padding: 0.3em;box-sizing: border-box;text-align: center;}#sk-container-id-1 label.sk-toggleable__label-arrow:before {content: \"▸\";float: left;margin-right: 0.25em;color: #696969;}#sk-container-id-1 label.sk-toggleable__label-arrow:hover:before {color: black;}#sk-container-id-1 div.sk-estimator:hover label.sk-toggleable__label-arrow:before {color: black;}#sk-container-id-1 div.sk-toggleable__content {max-height: 0;max-width: 0;overflow: hidden;text-align: left;background-color: #f0f8ff;}#sk-container-id-1 div.sk-toggleable__content pre {margin: 0.2em;color: black;border-radius: 0.25em;background-color: #f0f8ff;}#sk-container-id-1 input.sk-toggleable__control:checked~div.sk-toggleable__content {max-height: 200px;max-width: 100%;overflow: auto;}#sk-container-id-1 input.sk-toggleable__control:checked~label.sk-toggleable__label-arrow:before {content: \"▾\";}#sk-container-id-1 div.sk-estimator input.sk-toggleable__control:checked~label.sk-toggleable__label {background-color: #d4ebff;}#sk-container-id-1 div.sk-label input.sk-toggleable__control:checked~label.sk-toggleable__label {background-color: #d4ebff;}#sk-container-id-1 input.sk-hidden--visually {border: 0;clip: rect(1px 1px 1px 1px);clip: rect(1px, 1px, 1px, 1px);height: 1px;margin: -1px;overflow: hidden;padding: 0;position: absolute;width: 1px;}#sk-container-id-1 div.sk-estimator {font-family: monospace;background-color: #f0f8ff;border: 1px dotted black;border-radius: 0.25em;box-sizing: border-box;margin-bottom: 0.5em;}#sk-container-id-1 div.sk-estimator:hover {background-color: #d4ebff;}#sk-container-id-1 div.sk-parallel-item::after {content: \"\";width: 100%;border-bottom: 1px solid gray;flex-grow: 1;}#sk-container-id-1 div.sk-label:hover label.sk-toggleable__label {background-color: #d4ebff;}#sk-container-id-1 div.sk-serial::before {content: \"\";position: absolute;border-left: 1px solid gray;box-sizing: border-box;top: 0;bottom: 0;left: 50%;z-index: 0;}#sk-container-id-1 div.sk-serial {display: flex;flex-direction: column;align-items: center;background-color: white;padding-right: 0.2em;padding-left: 0.2em;position: relative;}#sk-container-id-1 div.sk-item {position: relative;z-index: 1;}#sk-container-id-1 div.sk-parallel {display: flex;align-items: stretch;justify-content: center;background-color: white;position: relative;}#sk-container-id-1 div.sk-item::before, #sk-container-id-1 div.sk-parallel-item::before {content: \"\";position: absolute;border-left: 1px solid gray;box-sizing: border-box;top: 0;bottom: 0;left: 50%;z-index: -1;}#sk-container-id-1 div.sk-parallel-item {display: flex;flex-direction: column;z-index: 1;position: relative;background-color: white;}#sk-container-id-1 div.sk-parallel-item:first-child::after {align-self: flex-end;width: 50%;}#sk-container-id-1 div.sk-parallel-item:last-child::after {align-self: flex-start;width: 50%;}#sk-container-id-1 div.sk-parallel-item:only-child::after {width: 0;}#sk-container-id-1 div.sk-dashed-wrapped {border: 1px dashed gray;margin: 0 0.4em 0.5em 0.4em;box-sizing: border-box;padding-bottom: 0.4em;background-color: white;}#sk-container-id-1 div.sk-label label {font-family: monospace;font-weight: bold;display: inline-block;line-height: 1.2em;}#sk-container-id-1 div.sk-label-container {text-align: center;}#sk-container-id-1 div.sk-container {/* jupyter's `normalize.less` sets `[hidden] { display: none; }` but bootstrap.min.css set `[hidden] { display: none !important; }` so we also need the `!important` here to be able to override the default hidden behavior on the sphinx rendered scikit-learn.org. See: https://github.com/scikit-learn/scikit-learn/issues/21755 */display: inline-block !important;position: relative;}#sk-container-id-1 div.sk-text-repr-fallback {display: none;}</style><div id=\"sk-container-id-1\" class=\"sk-top-container\"><div class=\"sk-text-repr-fallback\"><pre>XGBClassifier(base_score=None, booster=None, callbacks=None,\n",
       "              colsample_bylevel=None, colsample_bynode=None,\n",
       "              colsample_bytree=None, early_stopping_rounds=None,\n",
       "              enable_categorical=False, eval_metric=None, feature_types=None,\n",
       "              gamma=None, gpu_id=None, grow_policy=None, importance_type=None,\n",
       "              interaction_constraints=None, learning_rate=None, max_bin=None,\n",
       "              max_cat_threshold=None, max_cat_to_onehot=None,\n",
       "              max_delta_step=None, max_depth=None, max_leaves=None,\n",
       "              min_child_weight=None, missing=nan, monotone_constraints=None,\n",
       "              n_estimators=100, n_jobs=None, num_parallel_tree=None,\n",
       "              predictor=None, random_state=None, ...)</pre><b>In a Jupyter environment, please rerun this cell to show the HTML representation or trust the notebook. <br />On GitHub, the HTML representation is unable to render, please try loading this page with nbviewer.org.</b></div><div class=\"sk-container\" hidden><div class=\"sk-item\"><div class=\"sk-estimator sk-toggleable\"><input class=\"sk-toggleable__control sk-hidden--visually\" id=\"sk-estimator-id-1\" type=\"checkbox\" checked><label for=\"sk-estimator-id-1\" class=\"sk-toggleable__label sk-toggleable__label-arrow\">XGBClassifier</label><div class=\"sk-toggleable__content\"><pre>XGBClassifier(base_score=None, booster=None, callbacks=None,\n",
       "              colsample_bylevel=None, colsample_bynode=None,\n",
       "              colsample_bytree=None, early_stopping_rounds=None,\n",
       "              enable_categorical=False, eval_metric=None, feature_types=None,\n",
       "              gamma=None, gpu_id=None, grow_policy=None, importance_type=None,\n",
       "              interaction_constraints=None, learning_rate=None, max_bin=None,\n",
       "              max_cat_threshold=None, max_cat_to_onehot=None,\n",
       "              max_delta_step=None, max_depth=None, max_leaves=None,\n",
       "              min_child_weight=None, missing=nan, monotone_constraints=None,\n",
       "              n_estimators=100, n_jobs=None, num_parallel_tree=None,\n",
       "              predictor=None, random_state=None, ...)</pre></div></div></div></div></div>"
      ],
      "text/plain": [
       "XGBClassifier(base_score=None, booster=None, callbacks=None,\n",
       "              colsample_bylevel=None, colsample_bynode=None,\n",
       "              colsample_bytree=None, early_stopping_rounds=None,\n",
       "              enable_categorical=False, eval_metric=None, feature_types=None,\n",
       "              gamma=None, gpu_id=None, grow_policy=None, importance_type=None,\n",
       "              interaction_constraints=None, learning_rate=None, max_bin=None,\n",
       "              max_cat_threshold=None, max_cat_to_onehot=None,\n",
       "              max_delta_step=None, max_depth=None, max_leaves=None,\n",
       "              min_child_weight=None, missing=nan, monotone_constraints=None,\n",
       "              n_estimators=100, n_jobs=None, num_parallel_tree=None,\n",
       "              predictor=None, random_state=None, ...)"
      ]
     },
     "execution_count": 14,
     "metadata": {},
     "output_type": "execute_result"
    }
   ],
   "source": [
    "from xgboost import XGBClassifier # for regression model use XGBRegressor\n",
    "y_train_binary = np.where(y_train == 2, 0, 1)\n",
    "# Create and fit the classifier\n",
    "classifier = XGBClassifier()\n",
    "classifier.fit(x_train, y_train_binary)"
   ]
  },
  {
   "cell_type": "markdown",
   "metadata": {},
   "source": [
    "#### Making the confusion Matrix"
   ]
  },
  {
   "cell_type": "code",
   "execution_count": 15,
   "metadata": {},
   "outputs": [
    {
     "name": "stdout",
     "output_type": "stream",
     "text": [
      "[[ 0  0  0  0]\n",
      " [ 0  0  0  0]\n",
      " [85  2  0  0]\n",
      " [ 1 49  0  0]]\n"
     ]
    },
    {
     "data": {
      "text/plain": [
       "0.0"
      ]
     },
     "execution_count": 15,
     "metadata": {},
     "output_type": "execute_result"
    }
   ],
   "source": [
    "from sklearn.metrics import confusion_matrix, accuracy_score\n",
    "y_pred = classifier.predict(x_test)\n",
    "cm = confusion_matrix(y_test, y_pred)\n",
    "print(cm)\n",
    "accuracy_score(y_test, y_pred)"
   ]
  },
  {
   "cell_type": "markdown",
   "metadata": {},
   "source": [
    "#### Applying K-Fold Cross Validation"
   ]
  },
  {
   "cell_type": "code",
   "execution_count": 17,
   "metadata": {},
   "outputs": [
    {
     "name": "stdout",
     "output_type": "stream",
     "text": [
      "Accuracy: 96.53%\n",
      "Standard Deviation: 2.63%\n"
     ]
    }
   ],
   "source": [
    "from sklearn.model_selection import cross_val_score\n",
    "accuracies =cross_val_score(estimator= classifier, X =x_train, y=y_train_binary, cv=10)\n",
    "print(f'Accuracy: {accuracies.mean()*100:.2f}%')\n",
    "print(f'Standard Deviation: {accuracies.std()*100:.2f}%') # indicates the variance"
   ]
  }
 ],
 "metadata": {
  "kernelspec": {
   "display_name": "Python 3",
   "language": "python",
   "name": "python3"
  },
  "language_info": {
   "codemirror_mode": {
    "name": "ipython",
    "version": 3
   },
   "file_extension": ".py",
   "mimetype": "text/x-python",
   "name": "python",
   "nbconvert_exporter": "python",
   "pygments_lexer": "ipython3",
   "version": "3.11.4"
  },
  "orig_nbformat": 4
 },
 "nbformat": 4,
 "nbformat_minor": 2
}
