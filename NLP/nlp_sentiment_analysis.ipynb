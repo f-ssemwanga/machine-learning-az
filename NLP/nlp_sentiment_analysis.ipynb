{
 "cells": [
  {
   "cell_type": "markdown",
   "metadata": {},
   "source": [
    "#### Natural Language Processing - NLP model for sentiment analysis\n",
    "\n",
    "- using tsv files (tab separated values)\n",
    "\n",
    "- Data file has reviews - model reads text and understand if the text is positive or negative\n",
    "- This is a classification problem."
   ]
  },
  {
   "cell_type": "markdown",
   "metadata": {},
   "source": [
    "#### Importing Libraries"
   ]
  },
  {
   "cell_type": "code",
   "execution_count": 1,
   "metadata": {},
   "outputs": [],
   "source": [
    "import numpy as np\n",
    "import matplotlib.pyplot as plt\n",
    "import pandas as pd"
   ]
  },
  {
   "cell_type": "markdown",
   "metadata": {},
   "source": [
    "#### Importing the dataset"
   ]
  },
  {
   "cell_type": "code",
   "execution_count": 6,
   "metadata": {},
   "outputs": [],
   "source": [
    "dataset = pd.read_csv(\"../dataFiles/Restaurant_Reviews.tsv\", delimiter=\"\\t\", quoting=3) #quoting = 3 ignores double quotes\n"
   ]
  },
  {
   "cell_type": "markdown",
   "metadata": {},
   "source": [
    "#### Deep Cleaning of the text"
   ]
  },
  {
   "cell_type": "code",
   "execution_count": 8,
   "metadata": {},
   "outputs": [
    {
     "name": "stderr",
     "output_type": "stream",
     "text": [
      "[nltk_data] Downloading package stopwords to\n",
      "[nltk_data]     C:\\Users\\FSsemwanga\\AppData\\Roaming\\nltk_data...\n",
      "[nltk_data]   Package stopwords is already up-to-date!\n"
     ]
    }
   ],
   "source": [
    "import re #simplifies the reviews\n",
    "import nltk # allows us to download the ensemble of stop words i.e. not relevant to predict the review e.g. connectives\n",
    "\n",
    "#download the stop words\n",
    "nltk.download('stopwords') # download the stop words\n",
    "from nltk.corpus import stopwords # imports stop words into the notebook\n",
    "#stemming takes only the root of the word that indicates enough about what the word means\n",
    "# removes all the conjugations to help us minimise the dimension of \"sparse matrix\"\n",
    "from nltk.stem.porter import PorterStemmer # applies stemming on the words\n",
    "\n",
    "\n",
    "#cleaning of the words - remove punctuation, lowercase letters for all words, remove stop words and add them to the corpus list\n",
    "corpus = [] #contains all different reviews cleaned\n",
    "for i in range(0, 1000):\n",
    "  # cleaning each review\n",
    "  review = re.sub('[^a-zA-Z]', ' ', dataset['Review'][i])  # substitute anything that is not a letter with a space in the current revie\n",
    "  review = review.lower() # convert review to lowercase\n",
    "  review = review.split() # split the review into different words\n",
    "  \n",
    "  #stemming the words\n",
    "  ps = PorterStemmer()\n",
    "  #update list with stemmed words  and getting rid of the stopwords\n",
    "  review = [ps.stem(word) for word in review if not word in set(stopwords.words('english'))]\n",
    "  #join the words back into a string\n",
    "  review = ' '.join(review)\n",
    "  corpus.append(review) # update the corpus with the review"
   ]
  },
  {
   "cell_type": "markdown",
   "metadata": {},
   "source": [
    "#### Creating the bag of words model"
   ]
  },
  {
   "cell_type": "markdown",
   "metadata": {},
   "source": [
    "#### Training the Naive Bayes Model on the Training Set"
   ]
  },
  {
   "cell_type": "markdown",
   "metadata": {},
   "source": [
    "#### Predicting the Test Set Results"
   ]
  },
  {
   "cell_type": "markdown",
   "metadata": {},
   "source": [
    "#### Making the confusion Matrix"
   ]
  },
  {
   "cell_type": "code",
   "execution_count": null,
   "metadata": {},
   "outputs": [],
   "source": []
  }
 ],
 "metadata": {
  "kernelspec": {
   "display_name": "Python 3",
   "language": "python",
   "name": "python3"
  },
  "language_info": {
   "codemirror_mode": {
    "name": "ipython",
    "version": 3
   },
   "file_extension": ".py",
   "mimetype": "text/x-python",
   "name": "python",
   "nbconvert_exporter": "python",
   "pygments_lexer": "ipython3",
   "version": "3.11.4"
  },
  "orig_nbformat": 4
 },
 "nbformat": 4,
 "nbformat_minor": 2
}
